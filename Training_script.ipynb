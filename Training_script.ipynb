{
 "cells": [
  {
   "cell_type": "markdown",
   "metadata": {
    "id": "wHBQcQzjD6HJ"
   },
   "source": [
    "**Connect google drive**"
   ]
  },
  {
   "cell_type": "code",
   "execution_count": null,
   "metadata": {
    "colab": {
     "base_uri": "https://localhost:8080/"
    },
    "id": "9e9ZW3sqMEPO",
    "outputId": "fa0f0e3a-d1ad-405e-d9d1-9afe5004d2ed"
   },
   "outputs": [],
   "source": [
    "from google.colab import drive\n",
    "drive.mount('/content/gdrive')\n",
    "!ln -s /content/gdrive/My\\ Drive/ /mydrive"
   ]
  },
  {
   "cell_type": "code",
   "execution_count": null,
   "metadata": {
    "colab": {
     "base_uri": "https://localhost:8080/"
    },
    "id": "e03U7Zi-qMr2",
    "outputId": "b5671213-ed31-4b24-f8ec-60d7c17172de"
   },
   "outputs": [],
   "source": [
    "#clonining Github repo of Darknet for transfer learning\n",
    "!git clone https://github.com/AlexeyAB/darknet\n",
    "%cd darknet\n",
    "#compile Yolo darknet using gpu and opencv as both will be used \n",
    "!sed -i 's/OPENCV=0/OPENCV=1/' Makefile\n",
    "!sed -i 's/GPU=0/GPU=1/' Makefile\n",
    "!sed -i 's/CUDNN=0/CUDNN=1/' Makefile\n",
    "!make"
   ]
  },
  {
   "cell_type": "code",
   "execution_count": null,
   "metadata": {
    "id": "5ZgVQRop_vwR"
   },
   "outputs": [],
   "source": [
    "# get yolo config file for training(https://pjreddie.com/darknet/yolo/)\n",
    "# based on Darknet author instruction for weights\n",
    "# https://github.com/AlexeyAB/darknet#how-to-train-to-detect-your-custom-objects\n",
    "# our custom objet is floor in bulding here \n",
    "!cp cfg/yolov3.cfg cfg/yolov3_training.cfg\n",
    "#below part will automatically change the .cfg file during runtime, so saves you file from uploading\n",
    "!sed -i 's/batch=1/batch=64/' cfg/yolov3.cfg\n",
    "!sed -i 's/subdivisions=1/subdivisions=16/' cfg/yolov3.cfg\n",
    "!sed -i 's/max_batches = 500200/max_batches = 4000/' cfg/yolov3.cfg\n",
    "!sed -i '610 s@classes=80@classes=1@' cfg/yolov3.cfg\n",
    "!sed -i '696 s@classes=80@classes=1@' cfg/yolov3.cfg\n",
    "!sed -i '783 s@classes=80@classes=1@' cfg/yolov3.cfg\n",
    "!sed -i '603 s@filters=255@filters=18@' cfg/yolov3.cfg\n",
    "!sed -i '689 s@filters=255@filters=18@' cfg/yolov3.cfg\n",
    "!sed -i '776 s@filters=255@filters=18@' cfg/yolov3.cfg"
   ]
  },
  {
   "cell_type": "code",
   "execution_count": null,
   "metadata": {
    "colab": {
     "base_uri": "https://localhost:8080/"
    },
    "id": "nscRN-X2Mr3d",
    "outputId": "9d541111-b389-4dc9-b05a-1693d3aaa427"
   },
   "outputs": [],
   "source": [
    "# directory to save weights of training and backing up weights automatically in case of crash\n",
    "!mkdir \"/mydrive/floor_counter\"\n",
    "# based on Darknet author instruction for weights\n",
    "# https://github.com/AlexeyAB/darknet#how-to-train-to-detect-your-custom-objects\n",
    "!echo \"floor\" > data/obj.names\n",
    "!echo -e 'classes= 1\\ntrain  = data/train.txt\\nvalid  = data/test.txt\\nnames = data/obj.names\\nbackup = /mydrive/floor_counter' > data/obj.data\n",
    "!mkdir data/obj\n",
    "# download the weights for the convolutional layers here (76 MB) \n",
    "#instruction from author https://pjreddie.com/darknet/yolo/\n",
    "!wget https://pjreddie.com/media/files/darknet53.conv.74"
   ]
  },
  {
   "cell_type": "code",
   "execution_count": null,
   "metadata": {
    "colab": {
     "base_uri": "https://localhost:8080/"
    },
    "id": "jhb5nZvsQ_96",
    "outputId": "d3e002e8-098a-4270-ee02-9702cffe06bf"
   },
   "outputs": [],
   "source": [
    "#extract training image zip file in above mounted folder \"floor_counter\" in google drive \n",
    "#this zip contains images and labbled value from labelimg tool, which contains additional .text file apart from image; having cordinate of \n",
    "#floor labelling in form of square(so squares coordinate)\n",
    "!unzip /mydrive/floor_counter/training_images.zip -d data/obj"
   ]
  },
  {
   "cell_type": "code",
   "execution_count": null,
   "metadata": {
    "id": "DGUyXxeYX0IP"
   },
   "outputs": [],
   "source": [
    "# We're going to convert the class index on the .txt files. As we're working with only one class, it's supposed to be class 0.\n",
    "# If the index is different from 0 then we're going to change it.\n",
    "import os\n",
    "import re\n",
    "import glob\n",
    "\n",
    "#image_segment_cordinate = glob.glob(r\"data/obj/*.txt\")\n",
    "#image_segment_cordinate= C:/user/xx/project/darknet/build/darknet/x64/data/obj.names\n",
    "# while running in local machine use above code \n",
    "image_segment_cordinate = glob.glob(r\"data/obj/*.txt\")\n",
    "\n",
    "for num, txt_file_path in enumerate(image_segment_cordinate):\n",
    "# image size and getting coordinate of segmetaion \n",
    "    with open(txt_file_path, \"r\") as line_value:\n",
    "        lines = line_value.readlines()\n",
    "        text_converted = []\n",
    "        for line in lines:\n",
    "            numbers = re.findall(\"[0-9.]+\", line)\n",
    "            if numbers:\n",
    "                # cordinates of floor in images\n",
    "                text = \"{} {} {} {} {}\".format(0, numbers[1], numbers[2], numbers[3], numbers[4])\n",
    "                text_converted.append(text)\n",
    "        # Write file\n",
    "        with open(txt_file_path, 'w') as fp:\n",
    "            for item in text_converted:\n",
    "                fp.writelines(\"%s\\n\" % item)\n",
    "#joining image and segmentaion cordinate file to get complete training file\n",
    "#this will be fed to Draknet Network for CNN ops\n",
    "images_list = glob.glob(\"data/obj/*.jpg\")\n",
    "file = open(\"data/train.txt\", \"w\") \n",
    "file.write(\"\\n\".join(images_list)) \n",
    "file.close()      # this is training text file which is closed here           "
   ]
  },
  {
   "cell_type": "code",
   "execution_count": null,
   "metadata": {
    "colab": {
     "base_uri": "https://localhost:8080/"
    },
    "id": "S3_g3jclUzMm",
    "outputId": "a7cbb727-af46-4cd6-dd86-0ba916d65159"
   },
   "outputs": [],
   "source": [
    "# running Darknet with out prepared training data file\n",
    "#this training can go on very long time\n",
    "# in google drive folder it will keep on making backup of trained weights\n",
    "#suggested no of iteration is minimum 1000 but anytime it can be stopped and last weight obatined in g-drive can be used for inference\n",
    "#log - creates lod file for us\n",
    "!./darknet detector train data/obj.data cfg/yolov3.cfg darknet53.conv.74 -dont_show >> /mydrive/floor_counter/.log"
   ]
  },
  {
   "cell_type": "code",
   "execution_count": null,
   "metadata": {
    "id": "riXEFnWAUxlF"
   },
   "outputs": [],
   "source": [
    "!python3 plotTrainLoss.py /mydrive/floor_counter/.log"
   ]
  }
 ],
 "metadata": {
  "accelerator": "GPU",
  "colab": {
   "collapsed_sections": [],
   "name": "Training_script.ipynb",
   "provenance": [],
   "toc_visible": true
  },
  "kernelspec": {
   "display_name": "Python 3",
   "language": "python",
   "name": "python3"
  },
  "language_info": {
   "codemirror_mode": {
    "name": "ipython",
    "version": 3
   },
   "file_extension": ".py",
   "mimetype": "text/x-python",
   "name": "python",
   "nbconvert_exporter": "python",
   "pygments_lexer": "ipython3",
   "version": "3.7.3"
  }
 },
 "nbformat": 4,
 "nbformat_minor": 1
}
