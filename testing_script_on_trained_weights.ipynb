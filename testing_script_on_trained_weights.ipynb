{
 "cells": [
  {
   "cell_type": "code",
   "execution_count": 5,
   "metadata": {},
   "outputs": [
    {
     "name": "stdout",
     "output_type": "stream",
     "text": [
      "Total no. of floors in building= 3\n",
      "Total no. of floors in building= 2\n",
      "Total no. of floors in building= 1\n",
      "Total no. of floors in building= 12\n",
      "Total no. of floors in building= 3\n",
      "Total no. of floors in building= 13\n",
      "Total no. of floors in building= 2\n",
      "Total no. of floors in building= 4\n",
      "Total no. of floors in building= 2\n",
      "Total no. of floors in building= 4\n",
      "Total no. of floors in building= 3\n",
      "Total no. of floors in building= 5\n",
      "Total no. of floors in building= 6\n",
      "Total no. of floors in building= 2\n",
      "Total no. of floors in building= 2\n",
      "Total no. of floors in building= 7\n",
      "Total no. of floors in building= 3\n",
      "Total no. of floors in building= 3\n"
     ]
    }
   ],
   "source": [
    "import cv2\n",
    "import numpy as np\n",
    "import glob\n",
    "# Loading weights and config file \n",
    "#.cfg file is modified cfg file with modification for classes and filter size\n",
    "net = cv2.dnn.readNet(\"trained_weights\\\\yolov3_2000.weights\", \"yolov3.cfg\")\n",
    "layer_names = net.getLayerNames()\n",
    "output_layers = [layer_names[i[0] - 1] for i in net.getUnconnectedOutLayers()]\n",
    "#target class to detect\n",
    "classes = [\"floor\"]\n",
    "colors = np.random.uniform(0, 255, size=(len(classes), 3))\n",
    "# image to test the alogirthim testing dataset\n",
    "#replace with your path for images to test\n",
    "images_path = glob.glob(r\"testing_image_set\\*.jpg\")\n",
    "# loop through test image set\n",
    "for image in images_path:\n",
    "    # Loading image\n",
    "    img = cv2.imread(image)\n",
    "    scale_percent = 60 # percent of original size\n",
    "    width = int(img.shape[1] * scale_percent / 100)\n",
    "    height = int(img.shape[0] * scale_percent / 100)\n",
    "    dim = (width, height)\n",
    "    img = cv2.resize(img, dim, interpolation = cv2.INTER_AREA)\n",
    "    height, width, channels = img.shape\n",
    "    # finding object using open cv DNN\n",
    "    blob = cv2.dnn.blobFromImage(img, 0.00392, (416, 416), (2, 2, 2), True, crop=False)\n",
    "    net.setInput(blob)\n",
    "    output_of_layer = net.forward(output_layers)\n",
    "    # Showing informations on the screen\n",
    "    class_ids = []\n",
    "    confidences = []\n",
    "    boxes = []\n",
    "    num_detection=0 \n",
    "    for output in output_of_layer:\n",
    "        for detection in output: #all detection in output but we need threshold to select which detection to take\n",
    "            scores = detection[5:]\n",
    "            class_id = np.argmax(scores)\n",
    "            confidence = scores[class_id]  \n",
    "            if confidence > 0.3: # how better is detection, more the value more sure the model is taking for detection\n",
    "                num_detection=num_detection+1\n",
    "                centroid_x = int(detection[0] * width)\n",
    "                centeroid_y = int(detection[1] * height)\n",
    "                w = int(detection[2] * width)\n",
    "                h = int(detection[3] * height)\n",
    "\n",
    "                # Rectangle coordinates\n",
    "                x = int(centroid_x - w / 2)\n",
    "                y = int(centeroid_y - h / 2)\n",
    "\n",
    "                boxes.append([x, y, w, h])\n",
    "                confidences.append(float(confidence))\n",
    "                class_ids.append(class_id)\n",
    "    print(\"Total no. of floors in building=\",num_detection)   \n",
    "    #Non maxima supression other NMS like plain NS can be used as well\n",
    "    indexes = cv2.dnn.NMSBoxes(boxes, confidences, 0.5, 0.4)\n",
    "    font = cv2.FONT_HERSHEY_PLAIN\n",
    "    for i in range(len(boxes)):\n",
    "        if i in indexes:\n",
    "            x, y, w, h = boxes[i]\n",
    "            label = str(classes[class_ids[i]])\n",
    "            color = colors[class_ids[i]]\n",
    "            cv2.rectangle(img, (x, y), (x + w, y + h), color, 2)\n",
    "            cv2.putText(img, label, (x, y + 30), font, 3, color, 2)\n",
    "\n",
    "\n",
    "    cv2.imshow(\"Image\", img)\n",
    "    key = cv2.waitKey(0)\n",
    "\n",
    "cv2.destroyAllWindows()"
   ]
  },
  {
   "cell_type": "code",
   "execution_count": null,
   "metadata": {},
   "outputs": [],
   "source": []
  },
  {
   "cell_type": "code",
   "execution_count": null,
   "metadata": {},
   "outputs": [],
   "source": []
  },
  {
   "cell_type": "code",
   "execution_count": null,
   "metadata": {},
   "outputs": [],
   "source": []
  }
 ],
 "metadata": {
  "kernelspec": {
   "display_name": "Python 3",
   "language": "python",
   "name": "python3"
  },
  "language_info": {
   "codemirror_mode": {
    "name": "ipython",
    "version": 3
   },
   "file_extension": ".py",
   "mimetype": "text/x-python",
   "name": "python",
   "nbconvert_exporter": "python",
   "pygments_lexer": "ipython3",
   "version": "3.7.3"
  }
 },
 "nbformat": 4,
 "nbformat_minor": 2
}
